{
 "cells": [
  {
   "cell_type": "code",
   "execution_count": 59,
   "metadata": {},
   "outputs": [
    {
     "name": "stdout",
     "output_type": "stream",
     "text": [
      "The autoreload extension is already loaded. To reload it, use:\n",
      "  %reload_ext autoreload\n"
     ]
    }
   ],
   "source": [
    "from data import Dataset\n",
    "\n",
    "%load_ext autoreload\n",
    "%autoreload 2\n",
    "\n",
    "import torch\n",
    "\n",
    "from metrics import NDCG_binary_at_k_batch"
   ]
  },
  {
   "cell_type": "code",
   "execution_count": 60,
   "metadata": {},
   "outputs": [],
   "source": [
    "class dotdict(dict):\n",
    "        \"\"\"dot.notation access to dictionary attributes\"\"\"\n",
    "        __getattr__ = dict.get\n",
    "        __setattr__ = dict.__setitem__\n",
    "        __delattr__ = dict.__delitem__"
   ]
  },
  {
   "cell_type": "code",
   "execution_count": 61,
   "metadata": {},
   "outputs": [],
   "source": [
    "args = {}\n",
    "\n",
    "args = dotdict(args)\n",
    "args['data'] = 'foursquare' #'gowalla'\n",
    "\n",
    "args['model'] = 'BYOL_reco_model' #SimCLR_reco_model, MultiVAE, BYOL_reco_model\n",
    "\n",
    "args['n_epoches'] = 100\n",
    "\n",
    "args['n_epoches_dec'] = 50\n",
    "\n",
    "args['lrdec'] = 1e-3\n",
    "\n",
    "args['lrenc'] = 1e-3\n",
    "\n",
    "args['train_batch_size'] = 500\n",
    "\n",
    "args['val_batch_size'] = 200\n",
    "\n",
    "args['n_val_samples'] = 1\n",
    "\n",
    "args['annealing'] = True\n",
    "\n",
    "args.total_anneal_steps = 50\n",
    "\n",
    "args.anneal_cap = 1.\n",
    "\n",
    "args.print_info_ = 5\n",
    "\n",
    "args.metric = NDCG_binary_at_k_batch\n",
    "\n",
    "args.device = 'cpu'\n",
    "\n",
    "args.n_views = 2\n",
    "\n",
    "args.temperature = .07\n",
    "\n",
    "args.dropout_rate = 0.83\n",
    "\n",
    "args.criterion_dec = torch.nn.CrossEntropyLoss()\n",
    "\n",
    "args.m = 0.995"
   ]
  },
  {
   "cell_type": "code",
   "execution_count": 66,
   "metadata": {},
   "outputs": [],
   "source": [
    "dataset = Dataset(args)\n",
    "# pdb.set_trace()\n",
    "layers = [100, 600, dataset.n_items]\n",
    "args.z_dim = layers[0]\n",
    "args.l2_coeff = 0."
   ]
  },
  {
   "cell_type": "code",
   "execution_count": 71,
   "metadata": {},
   "outputs": [],
   "source": [
    "from other_models import *\n",
    "from pythae.models import VAMPConfig, VAEConfig, VAE_LinNF_Config, VAE_IAF_Config\n",
    "from pythae.models.nn import BaseEncoder, BaseDecoder\n",
    "from pythae.models.base.base_utils import ModelOutput\n",
    "from models import make_linear_network\n",
    "\n",
    "\n",
    "class Encoder(BaseEncoder):\n",
    "    def __init__(self, dims):\n",
    "        BaseDecoder.__init__(self)\n",
    "        self.layers = make_linear_network(\n",
    "            dims,\n",
    "            encoder=True\n",
    "        )\n",
    "        self.dims = dims\n",
    "\n",
    "    def forward(self, x):\n",
    "        out = self.layers(x)\n",
    "        return ModelOutput(\n",
    "            embedding=out[:, :self.dims[-1]],\n",
    "            log_covariance=out[:, self.dims[-1]:]\n",
    "            )\n",
    "    \n",
    "class Decoder(BaseDecoder):\n",
    "    def __init__(self, dims):\n",
    "        BaseDecoder.__init__(self)\n",
    "        self.layers = make_linear_network(\n",
    "            dims,\n",
    "            encoder=False\n",
    "        )\n",
    "        self.dims = dims\n",
    "        \n",
    "    def forward(self, x):\n",
    "        out = self.layers(x)\n",
    "        return ModelOutput(\n",
    "            reconstruction=out[:self.dims[-1]]\n",
    "            )\n",
    "\n",
    "config = VAE_IAF_Config(\n",
    "    n_made_blocks=3,\n",
    "    latent_dim=args.z_dim,\n",
    "    input_dim=(26150,)\n",
    ")\n",
    "\n",
    "model = MultiVAEIAF(\n",
    "    model_config=config,\n",
    "    encoder=Encoder(dims=layers[::-1]),\n",
    "    decoder=Decoder(dims=layers)\n",
    ")\n"
   ]
  },
  {
   "cell_type": "code",
   "execution_count": 74,
   "metadata": {},
   "outputs": [
    {
     "data": {
      "text/plain": [
       "ModelOutput([('loss', tensor(120.5386, grad_fn=<AddBackward0>)),\n",
       "             ('elbo', tensor(76.3620, grad_fn=<AddBackward0>))])"
      ]
     },
     "execution_count": 74,
     "metadata": {},
     "output_type": "execute_result"
    }
   ],
   "source": [
    "x = next(dataset.next_train_batch())\n",
    "model(x, anneal=2)"
   ]
  },
  {
   "cell_type": "code",
   "execution_count": null,
   "metadata": {},
   "outputs": [],
   "source": []
  }
 ],
 "metadata": {
  "kernelspec": {
   "display_name": "recomenders",
   "language": "python",
   "name": "python3"
  },
  "language_info": {
   "codemirror_mode": {
    "name": "ipython",
    "version": 3
   },
   "file_extension": ".py",
   "mimetype": "text/x-python",
   "name": "python",
   "nbconvert_exporter": "python",
   "pygments_lexer": "ipython3",
   "version": "3.8.16"
  },
  "orig_nbformat": 4,
  "vscode": {
   "interpreter": {
    "hash": "31445e1c91ca14b00113211911eb8289a62146068036db2ba0d54800a345898a"
   }
  }
 },
 "nbformat": 4,
 "nbformat_minor": 2
}
